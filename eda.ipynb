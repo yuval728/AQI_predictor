{
 "cells": [
  {
   "cell_type": "code",
   "execution_count": 20,
   "metadata": {},
   "outputs": [],
   "source": [
    "import pandas as pd\n",
    "import numpy as np\n",
    "import matplotlib.pyplot as plt"
   ]
  },
  {
   "cell_type": "code",
   "execution_count": 21,
   "metadata": {},
   "outputs": [],
   "source": [
    "# data = pd.read_csv('data/Dataset_for_AQI_Classification/Dataset_for_AQI_Classification/train_data.csv')\n",
    "# data.shape"
   ]
  },
  {
   "cell_type": "code",
   "execution_count": 22,
   "metadata": {},
   "outputs": [
    {
     "data": {
      "text/plain": [
       "(12240, 14)"
      ]
     },
     "execution_count": 22,
     "metadata": {},
     "output_type": "execute_result"
    }
   ],
   "source": [
    "data = pd.read_csv('data/Air Pollution Image Dataset/Air Pollution Image Dataset/Combined_Dataset/IND_and_Nep_AQI_Dataset.csv')\n",
    "data.shape\n",
    "# data.columns"
   ]
  },
  {
   "cell_type": "code",
   "execution_count": 33,
   "metadata": {},
   "outputs": [
    {
     "data": {
      "text/plain": [
       "Location        0\n",
       "Filename        0\n",
       "Year            0\n",
       "Month           0\n",
       "Day             0\n",
       "Hour            0\n",
       "AQI             0\n",
       "PM2.5           0\n",
       "PM10            0\n",
       "O3            302\n",
       "CO            580\n",
       "SO2          1483\n",
       "NO2           440\n",
       "AQI_Class       0\n",
       "Latitude        0\n",
       "Longitude       0\n",
       "dtype: int64"
      ]
     },
     "execution_count": 33,
     "metadata": {},
     "output_type": "execute_result"
    }
   ],
   "source": [
    "data.isna().sum()"
   ]
  },
  {
   "cell_type": "code",
   "execution_count": 25,
   "metadata": {},
   "outputs": [],
   "source": [
    "# data.head(20)"
   ]
  },
  {
   "cell_type": "code",
   "execution_count": 5,
   "metadata": {},
   "outputs": [
    {
     "data": {
      "text/plain": [
       "array(['Biratnagar, Nepal', 'Tamil Nadu', 'Mumbai',\n",
       "       'Knowledge park, Greater Noida', 'New Ind Town, Faridabad',\n",
       "       'ITO, Delhi', 'Bengaluru', 'Dimapur, Nagaland'], dtype=object)"
      ]
     },
     "execution_count": 5,
     "metadata": {},
     "output_type": "execute_result"
    }
   ],
   "source": [
    "data['Location'].unique()"
   ]
  },
  {
   "cell_type": "code",
   "execution_count": 6,
   "metadata": {},
   "outputs": [],
   "source": [
    "def normalize_filename(filename):\n",
    "    splits = filename.split('.')\n",
    "    return splits[0] + '.' + splits[1][:2]\n",
    "\n",
    "data['Normalized_Filename'] = data['Filename'].apply(normalize_filename)"
   ]
  },
  {
   "cell_type": "code",
   "execution_count": 26,
   "metadata": {},
   "outputs": [],
   "source": [
    "# data['Normalized_Filename'].unique()"
   ]
  },
  {
   "cell_type": "code",
   "execution_count": 9,
   "metadata": {},
   "outputs": [
    {
     "data": {
      "text/plain": [
       "Location               12078\n",
       "Filename               12078\n",
       "Year                   12078\n",
       "Month                  12078\n",
       "Day                    12078\n",
       "Hour                   12078\n",
       "AQI                    12078\n",
       "PM2.5                  12078\n",
       "PM10                   12078\n",
       "O3                     11776\n",
       "CO                     11498\n",
       "SO2                    10595\n",
       "NO2                    11638\n",
       "AQI_Class              12078\n",
       "Normalized_Filename    12078\n",
       "dtype: int64"
      ]
     },
     "execution_count": 9,
     "metadata": {},
     "output_type": "execute_result"
    }
   ],
   "source": [
    "data[~data['Normalized_Filename'].str.contains('.jp')].count()"
   ]
  },
  {
   "cell_type": "code",
   "execution_count": 28,
   "metadata": {},
   "outputs": [
    {
     "data": {
      "text/html": [
       "<div>\n",
       "<style scoped>\n",
       "    .dataframe tbody tr th:only-of-type {\n",
       "        vertical-align: middle;\n",
       "    }\n",
       "\n",
       "    .dataframe tbody tr th {\n",
       "        vertical-align: top;\n",
       "    }\n",
       "\n",
       "    .dataframe thead th {\n",
       "        text-align: right;\n",
       "    }\n",
       "</style>\n",
       "<table border=\"1\" class=\"dataframe\">\n",
       "  <thead>\n",
       "    <tr style=\"text-align: right;\">\n",
       "      <th></th>\n",
       "      <th>Location</th>\n",
       "      <th>Filename</th>\n",
       "      <th>Year</th>\n",
       "      <th>Month</th>\n",
       "      <th>Day</th>\n",
       "      <th>Hour</th>\n",
       "      <th>AQI</th>\n",
       "      <th>PM2.5</th>\n",
       "      <th>PM10</th>\n",
       "      <th>O3</th>\n",
       "      <th>CO</th>\n",
       "      <th>SO2</th>\n",
       "      <th>NO2</th>\n",
       "      <th>AQI_Class</th>\n",
       "      <th>Normalized_Filename</th>\n",
       "    </tr>\n",
       "  </thead>\n",
       "  <tbody>\n",
       "    <tr>\n",
       "      <th>0</th>\n",
       "      <td>Biratnagar, Nepal</td>\n",
       "      <td>BRI_Un_2023-02-02- 12.00-9.jpg</td>\n",
       "      <td>2023</td>\n",
       "      <td>2</td>\n",
       "      <td>2</td>\n",
       "      <td>12:00</td>\n",
       "      <td>158</td>\n",
       "      <td>70.08</td>\n",
       "      <td>100.82</td>\n",
       "      <td>58.89</td>\n",
       "      <td>0.49</td>\n",
       "      <td>4.4</td>\n",
       "      <td>1.04</td>\n",
       "      <td>d_Unhealthy</td>\n",
       "      <td>BRI_Un_2023-02-02- 12.00</td>\n",
       "    </tr>\n",
       "    <tr>\n",
       "      <th>1</th>\n",
       "      <td>Biratnagar, Nepal</td>\n",
       "      <td>BRI_Un_2023-02-02- 12.00-8.jpg</td>\n",
       "      <td>2023</td>\n",
       "      <td>2</td>\n",
       "      <td>2</td>\n",
       "      <td>12:00</td>\n",
       "      <td>158</td>\n",
       "      <td>70.08</td>\n",
       "      <td>100.82</td>\n",
       "      <td>58.89</td>\n",
       "      <td>0.49</td>\n",
       "      <td>4.4</td>\n",
       "      <td>1.04</td>\n",
       "      <td>d_Unhealthy</td>\n",
       "      <td>BRI_Un_2023-02-02- 12.00</td>\n",
       "    </tr>\n",
       "    <tr>\n",
       "      <th>2</th>\n",
       "      <td>Biratnagar, Nepal</td>\n",
       "      <td>BRI_Un_2023-02-02- 12.00-7.jpg</td>\n",
       "      <td>2023</td>\n",
       "      <td>2</td>\n",
       "      <td>2</td>\n",
       "      <td>12:00</td>\n",
       "      <td>158</td>\n",
       "      <td>70.08</td>\n",
       "      <td>100.82</td>\n",
       "      <td>58.89</td>\n",
       "      <td>0.49</td>\n",
       "      <td>4.4</td>\n",
       "      <td>1.04</td>\n",
       "      <td>d_Unhealthy</td>\n",
       "      <td>BRI_Un_2023-02-02- 12.00</td>\n",
       "    </tr>\n",
       "    <tr>\n",
       "      <th>3</th>\n",
       "      <td>Biratnagar, Nepal</td>\n",
       "      <td>BRI_Un_2023-02-02- 12.00-6.jpg</td>\n",
       "      <td>2023</td>\n",
       "      <td>2</td>\n",
       "      <td>2</td>\n",
       "      <td>12:00</td>\n",
       "      <td>158</td>\n",
       "      <td>70.08</td>\n",
       "      <td>100.82</td>\n",
       "      <td>58.89</td>\n",
       "      <td>0.49</td>\n",
       "      <td>4.4</td>\n",
       "      <td>1.04</td>\n",
       "      <td>d_Unhealthy</td>\n",
       "      <td>BRI_Un_2023-02-02- 12.00</td>\n",
       "    </tr>\n",
       "    <tr>\n",
       "      <th>4</th>\n",
       "      <td>Biratnagar, Nepal</td>\n",
       "      <td>BRI_Un_2023-02-02- 12.00-5.jpg</td>\n",
       "      <td>2023</td>\n",
       "      <td>2</td>\n",
       "      <td>2</td>\n",
       "      <td>12:00</td>\n",
       "      <td>158</td>\n",
       "      <td>70.08</td>\n",
       "      <td>100.82</td>\n",
       "      <td>58.89</td>\n",
       "      <td>0.49</td>\n",
       "      <td>4.4</td>\n",
       "      <td>1.04</td>\n",
       "      <td>d_Unhealthy</td>\n",
       "      <td>BRI_Un_2023-02-02- 12.00</td>\n",
       "    </tr>\n",
       "    <tr>\n",
       "      <th>5</th>\n",
       "      <td>Biratnagar, Nepal</td>\n",
       "      <td>BRI_Un_2023-02-02- 12.00-4.jpg</td>\n",
       "      <td>2023</td>\n",
       "      <td>2</td>\n",
       "      <td>2</td>\n",
       "      <td>12:00</td>\n",
       "      <td>158</td>\n",
       "      <td>70.08</td>\n",
       "      <td>100.82</td>\n",
       "      <td>58.89</td>\n",
       "      <td>0.49</td>\n",
       "      <td>4.4</td>\n",
       "      <td>1.04</td>\n",
       "      <td>d_Unhealthy</td>\n",
       "      <td>BRI_Un_2023-02-02- 12.00</td>\n",
       "    </tr>\n",
       "    <tr>\n",
       "      <th>6</th>\n",
       "      <td>Biratnagar, Nepal</td>\n",
       "      <td>BRI_Un_2023-02-02- 12.00-3.jpg</td>\n",
       "      <td>2023</td>\n",
       "      <td>2</td>\n",
       "      <td>2</td>\n",
       "      <td>12:00</td>\n",
       "      <td>158</td>\n",
       "      <td>70.08</td>\n",
       "      <td>100.82</td>\n",
       "      <td>58.89</td>\n",
       "      <td>0.49</td>\n",
       "      <td>4.4</td>\n",
       "      <td>1.04</td>\n",
       "      <td>d_Unhealthy</td>\n",
       "      <td>BRI_Un_2023-02-02- 12.00</td>\n",
       "    </tr>\n",
       "    <tr>\n",
       "      <th>7</th>\n",
       "      <td>Biratnagar, Nepal</td>\n",
       "      <td>BRI_Un_2023-02-02- 12.00-2.jpg</td>\n",
       "      <td>2023</td>\n",
       "      <td>2</td>\n",
       "      <td>2</td>\n",
       "      <td>12:00</td>\n",
       "      <td>158</td>\n",
       "      <td>70.08</td>\n",
       "      <td>100.82</td>\n",
       "      <td>58.89</td>\n",
       "      <td>0.49</td>\n",
       "      <td>4.4</td>\n",
       "      <td>1.04</td>\n",
       "      <td>d_Unhealthy</td>\n",
       "      <td>BRI_Un_2023-02-02- 12.00</td>\n",
       "    </tr>\n",
       "    <tr>\n",
       "      <th>8</th>\n",
       "      <td>Biratnagar, Nepal</td>\n",
       "      <td>BRI_Un_2023-02-02- 12.00-18.jpg</td>\n",
       "      <td>2023</td>\n",
       "      <td>2</td>\n",
       "      <td>2</td>\n",
       "      <td>12:00</td>\n",
       "      <td>158</td>\n",
       "      <td>70.08</td>\n",
       "      <td>100.82</td>\n",
       "      <td>58.89</td>\n",
       "      <td>0.49</td>\n",
       "      <td>4.4</td>\n",
       "      <td>1.04</td>\n",
       "      <td>d_Unhealthy</td>\n",
       "      <td>BRI_Un_2023-02-02- 12.00</td>\n",
       "    </tr>\n",
       "    <tr>\n",
       "      <th>9</th>\n",
       "      <td>Biratnagar, Nepal</td>\n",
       "      <td>BRI_Un_2023-02-02- 12.00-17.jpg</td>\n",
       "      <td>2023</td>\n",
       "      <td>2</td>\n",
       "      <td>2</td>\n",
       "      <td>12:00</td>\n",
       "      <td>158</td>\n",
       "      <td>70.08</td>\n",
       "      <td>100.82</td>\n",
       "      <td>58.89</td>\n",
       "      <td>0.49</td>\n",
       "      <td>4.4</td>\n",
       "      <td>1.04</td>\n",
       "      <td>d_Unhealthy</td>\n",
       "      <td>BRI_Un_2023-02-02- 12.00</td>\n",
       "    </tr>\n",
       "  </tbody>\n",
       "</table>\n",
       "</div>"
      ],
      "text/plain": [
       "            Location                         Filename  Year  Month  Day  \\\n",
       "0  Biratnagar, Nepal   BRI_Un_2023-02-02- 12.00-9.jpg  2023      2    2   \n",
       "1  Biratnagar, Nepal   BRI_Un_2023-02-02- 12.00-8.jpg  2023      2    2   \n",
       "2  Biratnagar, Nepal   BRI_Un_2023-02-02- 12.00-7.jpg  2023      2    2   \n",
       "3  Biratnagar, Nepal   BRI_Un_2023-02-02- 12.00-6.jpg  2023      2    2   \n",
       "4  Biratnagar, Nepal   BRI_Un_2023-02-02- 12.00-5.jpg  2023      2    2   \n",
       "5  Biratnagar, Nepal   BRI_Un_2023-02-02- 12.00-4.jpg  2023      2    2   \n",
       "6  Biratnagar, Nepal   BRI_Un_2023-02-02- 12.00-3.jpg  2023      2    2   \n",
       "7  Biratnagar, Nepal   BRI_Un_2023-02-02- 12.00-2.jpg  2023      2    2   \n",
       "8  Biratnagar, Nepal  BRI_Un_2023-02-02- 12.00-18.jpg  2023      2    2   \n",
       "9  Biratnagar, Nepal  BRI_Un_2023-02-02- 12.00-17.jpg  2023      2    2   \n",
       "\n",
       "    Hour  AQI  PM2.5    PM10     O3    CO  SO2   NO2    AQI_Class  \\\n",
       "0  12:00  158  70.08  100.82  58.89  0.49  4.4  1.04  d_Unhealthy   \n",
       "1  12:00  158  70.08  100.82  58.89  0.49  4.4  1.04  d_Unhealthy   \n",
       "2  12:00  158  70.08  100.82  58.89  0.49  4.4  1.04  d_Unhealthy   \n",
       "3  12:00  158  70.08  100.82  58.89  0.49  4.4  1.04  d_Unhealthy   \n",
       "4  12:00  158  70.08  100.82  58.89  0.49  4.4  1.04  d_Unhealthy   \n",
       "5  12:00  158  70.08  100.82  58.89  0.49  4.4  1.04  d_Unhealthy   \n",
       "6  12:00  158  70.08  100.82  58.89  0.49  4.4  1.04  d_Unhealthy   \n",
       "7  12:00  158  70.08  100.82  58.89  0.49  4.4  1.04  d_Unhealthy   \n",
       "8  12:00  158  70.08  100.82  58.89  0.49  4.4  1.04  d_Unhealthy   \n",
       "9  12:00  158  70.08  100.82  58.89  0.49  4.4  1.04  d_Unhealthy   \n",
       "\n",
       "        Normalized_Filename  \n",
       "0  BRI_Un_2023-02-02- 12.00  \n",
       "1  BRI_Un_2023-02-02- 12.00  \n",
       "2  BRI_Un_2023-02-02- 12.00  \n",
       "3  BRI_Un_2023-02-02- 12.00  \n",
       "4  BRI_Un_2023-02-02- 12.00  \n",
       "5  BRI_Un_2023-02-02- 12.00  \n",
       "6  BRI_Un_2023-02-02- 12.00  \n",
       "7  BRI_Un_2023-02-02- 12.00  \n",
       "8  BRI_Un_2023-02-02- 12.00  \n",
       "9  BRI_Un_2023-02-02- 12.00  "
      ]
     },
     "execution_count": 28,
     "metadata": {},
     "output_type": "execute_result"
    }
   ],
   "source": [
    "data.head(10)"
   ]
  },
  {
   "cell_type": "code",
   "execution_count": 27,
   "metadata": {},
   "outputs": [
    {
     "data": {
      "text/plain": [
       "array(['Biratnagar, Nepal', 'Tamil Nadu', 'Mumbai',\n",
       "       'Knowledge park, Greater Noida', 'New Ind Town, Faridabad',\n",
       "       'ITO, Delhi', 'Bengaluru', 'Dimapur, Nagaland'], dtype=object)"
      ]
     },
     "execution_count": 27,
     "metadata": {},
     "output_type": "execute_result"
    }
   ],
   "source": [
    "data.Location.unique()"
   ]
  },
  {
   "cell_type": "code",
   "execution_count": 28,
   "metadata": {},
   "outputs": [
    {
     "name": "stdout",
     "output_type": "stream",
     "text": [
      "Location: ITO, Delhi, Latitude: 28.6281909, Longitude: 77.2410437\n",
      "Location: Dimapur, Nagaland, Latitude: 25.904137849999998, Longitude: 93.7177608788519\n",
      "Location: Spice Garden, Bengaluru, Latitude: 12.9570571, Longitude: 77.7091042\n",
      "Location: Knowledge Park III, Greater Noida, Latitude: 28.478588, Longitude: 77.4813689\n",
      "Location: New Ind Town, Faridabad, Latitude: None, Longitude: None\n",
      "Location: Borivali East, Mumbai, Latitude: 19.2267228, Longitude: 72.8619328\n",
      "Location: Oragadam, Tamil Nadu, Latitude: 12.8386457, Longitude: 79.9452346\n"
     ]
    }
   ],
   "source": [
    "# from geopy.geocoders import Nominatim\n",
    "\n",
    "# # Initialize geolocator\n",
    "# geolocator = Nominatim(user_agent=\"geoapi\")\n",
    "\n",
    "# # List of locations\n",
    "# locations = [\n",
    "#     \"ITO, Delhi\",\n",
    "#     \"Dimapur, Nagaland\",\n",
    "#     \"Spice Garden, Bengaluru\",\n",
    "#     \"Knowledge Park III, Greater Noida\",\n",
    "#     \"New Ind Town, Faridabad\",\n",
    "#     \"Borivali East, Mumbai\",\n",
    "#     \"Oragadam, Tamil Nadu\"\n",
    "# ]\n",
    "\n",
    "# # Geocode each location\n",
    "# coordinates = []\n",
    "# for loc in locations:\n",
    "#     location = geolocator.geocode(loc)\n",
    "#     if location:\n",
    "#         coordinates.append((loc, location.latitude, location.longitude))\n",
    "#     else:\n",
    "#         coordinates.append((loc, None, None))\n",
    "\n",
    "# # Print results\n",
    "# for loc, lat, lon in coordinates:\n",
    "#     print(f\"Location: {loc}, Latitude: {lat}, Longitude: {lon}\")\n"
   ]
  },
  {
   "cell_type": "code",
   "execution_count": 29,
   "metadata": {},
   "outputs": [],
   "source": [
    "coordinates = [\n",
    "    (\"ITO, Delhi\", 28.6284, 77.2425),\n",
    "    (\"Dimapur, Nagaland\", 25.9094, 93.7276),\n",
    "    (\"Spice Garden, Bengaluru\", 12.9724, 77.5807),\n",
    "    (\"Knowledge Park III, Greater Noida\", 28.4674, 77.503),\n",
    "    (\"New Ind Town, Faridabad\", 28.4089, 77.3178),\n",
    "    (\"Borivali East, Mumbai\", 19.2300, 72.8602),\n",
    "    (\"Oragadam, Tamil Nadu\", 12.8321, 79.9943)\n",
    "]"
   ]
  },
  {
   "cell_type": "code",
   "execution_count": 31,
   "metadata": {},
   "outputs": [],
   "source": [
    "def map_locations(data, coordinates):\n",
    "    lat = [0] * len(data['Location'])\n",
    "    lon = [0] * len(data['Location'])\n",
    "    for i, location in enumerate(data['Location']):\n",
    "        for j, coord in enumerate(coordinates):\n",
    "            if location in coord[0]:\n",
    "                lat[i] = coord[1]\n",
    "                lon[i] = coord[2]\n",
    "                \n",
    "    return lat, lon\n",
    "\n",
    "lat, lon = map_locations(data, coordinates)"
   ]
  },
  {
   "cell_type": "code",
   "execution_count": 32,
   "metadata": {},
   "outputs": [],
   "source": [
    "data['Latitude'] = lat\n",
    "data['Longitude'] = lon"
   ]
  },
  {
   "cell_type": "code",
   "execution_count": 44,
   "metadata": {},
   "outputs": [
    {
     "data": {
      "text/plain": [
       "<Axes: >"
      ]
     },
     "execution_count": 44,
     "metadata": {},
     "output_type": "execute_result"
    },
    {
     "data": {
      "image/png": "[encoded data removed]",
      "text/plain": [
       "<Figure size 640x480 with 1 Axes>"
      ]
     },
     "metadata": {},
     "output_type": "display_data"
    }
   ],
   "source": [
    "# plt.plot(data['AQI'])\n",
    "data['AQI'].hist(bins=50)"
   ]
  },
  {
   "attachments": {
    "image.png": {
     "image/png": "[encoded data removed]"
    }
   },
   "cell_type": "markdown",
   "metadata": {},
   "source": [
    "![image.png](attachment:image.png)\n",
    "\n",
    "https://safar.tropmet.res.in/AQI-47-12-Details"
   ]
  },
  {
   "cell_type": "code",
   "execution_count": 47,
   "metadata": {},
   "outputs": [],
   "source": [
    "def map_aqi(x):\n",
    "    if x <= 50:\n",
    "        return 'Good'\n",
    "    elif x <= 100:\n",
    "        return 'Satisfactory'\n",
    "    elif x <= 200:\n",
    "        return 'Moderate'\n",
    "    elif x <= 300:\n",
    "        return 'Poor'\n",
    "    elif x <= 400:\n",
    "        return 'Very Poor'\n",
    "    else:\n",
    "        return 'Severe'\n",
    "    \n",
    "data['AQI_Class2'] = data['AQI'].apply(map_aqi)"
   ]
  },
  {
   "cell_type": "code",
   "execution_count": 57,
   "metadata": {},
   "outputs": [
    {
     "name": "stdout",
     "output_type": "stream",
     "text": [
      "Biratnagar, Nepal\n",
      "new AQI bands\n",
      "\n",
      "AQI_Class2\n",
      "Moderate        1887\n",
      "Satisfactory     284\n",
      "Name: count, dtype: int64\n",
      "\n",
      "old AQI bands\n",
      "AQI_Class\n",
      "d_Unhealthy                         1153\n",
      "c_Unhealthy_for_Sensitive_Groups     734\n",
      "b_Moderate                           284\n",
      "Name: count, dtype: int64\n",
      "\n",
      "\n",
      "Tamil Nadu\n",
      "new AQI bands\n",
      "\n",
      "AQI_Class2\n",
      "Moderate        758\n",
      "Good            667\n",
      "Satisfactory    115\n",
      "Name: count, dtype: int64\n",
      "\n",
      "old AQI bands\n",
      "AQI_Class\n",
      "a_Good                              667\n",
      "c_Unhealthy_for_Sensitive_Groups    495\n",
      "d_Unhealthy                         263\n",
      "b_Moderate                          115\n",
      "Name: count, dtype: int64\n",
      "\n",
      "\n",
      "Mumbai\n",
      "new AQI bands\n",
      "\n",
      "AQI_Class2\n",
      "Moderate        1600\n",
      "Poor             264\n",
      "Good             252\n",
      "Satisfactory      87\n",
      "Name: count, dtype: int64\n",
      "\n",
      "old AQI bands\n",
      "AQI_Class\n",
      "d_Unhealthy                         951\n",
      "c_Unhealthy_for_Sensitive_Groups    649\n",
      "e_Very_Unhealthy                    264\n",
      "a_Good                              252\n",
      "b_Moderate                           87\n",
      "Name: count, dtype: int64\n",
      "\n",
      "\n",
      "Knowledge park, Greater Noida\n",
      "new AQI bands\n",
      "\n",
      "AQI_Class2\n",
      "Moderate        547\n",
      "Very Poor       388\n",
      "Poor            303\n",
      "Satisfactory      3\n",
      "Name: count, dtype: int64\n",
      "\n",
      "old AQI bands\n",
      "AQI_Class\n",
      "c_Unhealthy_for_Sensitive_Groups    415\n",
      "f_Severe                            388\n",
      "e_Very_Unhealthy                    303\n",
      "d_Unhealthy                         132\n",
      "b_Moderate                            3\n",
      "Name: count, dtype: int64\n",
      "\n",
      "\n",
      "New Ind Town, Faridabad\n",
      "new AQI bands\n",
      "\n",
      "AQI_Class2\n",
      "Poor    641\n",
      "Name: count, dtype: int64\n",
      "\n",
      "old AQI bands\n",
      "AQI_Class\n",
      "e_Very_Unhealthy    641\n",
      "Name: count, dtype: int64\n",
      "\n",
      "\n",
      "ITO, Delhi\n",
      "new AQI bands\n",
      "\n",
      "AQI_Class2\n",
      "Poor         986\n",
      "Very Poor    680\n",
      "Severe       379\n",
      "Moderate     123\n",
      "Name: count, dtype: int64\n",
      "\n",
      "old AQI bands\n",
      "AQI_Class\n",
      "f_Severe            1059\n",
      "e_Very_Unhealthy     986\n",
      "d_Unhealthy          123\n",
      "Name: count, dtype: int64\n",
      "\n",
      "\n",
      "Bengaluru\n",
      "new AQI bands\n",
      "\n",
      "AQI_Class2\n",
      "Satisfactory    962\n",
      "Good            622\n",
      "Moderate        342\n",
      "Name: count, dtype: int64\n",
      "\n",
      "old AQI bands\n",
      "AQI_Class\n",
      "b_Moderate                          962\n",
      "a_Good                              622\n",
      "c_Unhealthy_for_Sensitive_Groups    342\n",
      "Name: count, dtype: int64\n",
      "\n",
      "\n",
      "Dimapur, Nagaland\n",
      "new AQI bands\n",
      "\n",
      "AQI_Class2\n",
      "Moderate        228\n",
      "Satisfactory    122\n",
      "Name: count, dtype: int64\n",
      "\n",
      "old AQI bands\n",
      "AQI_Class\n",
      "c_Unhealthy_for_Sensitive_Groups    228\n",
      "b_Moderate                          122\n",
      "Name: count, dtype: int64\n",
      "\n",
      "\n"
     ]
    }
   ],
   "source": [
    "for i in data['Location'].unique():\n",
    "    print(i)\n",
    "    print(\"new AQI bands\")\n",
    "    print()\n",
    "    print(data[data['Location']==i]['AQI_Class2'].value_counts())\n",
    "    print()\n",
    "    print(\"old AQI bands\")\n",
    "    print(data[data['Location']==i]['AQI_Class'].value_counts())\n",
    "    print(\"\\n\")\n"
   ]
  },
  {
   "cell_type": "code",
   "execution_count": null,
   "metadata": {},
   "outputs": [],
   "source": [
    "## Resnet 18, 50, 108\n",
    "## VGG 16 19\n",
    "## EfficentNet\n",
    "## InceptionNet\n",
    "## Vision Transformer (ViT)\n",
    "## MobileNet\n",
    "## MobileNetV3\n",
    "\n"
   ]
  },
  {
   "cell_type": "code",
   "execution_count": 4,
   "metadata": {},
   "outputs": [
    {
     "name": "stdout",
     "output_type": "stream",
     "text": [
      "Location: Biratnagar, Nepal, Latitude: 26.4623007, Longitude: 87.281617\n",
      "Location: Tamil Nadu, Latitude: 10.9094334, Longitude: 78.3665347\n",
      "Location: Mumbai, Latitude: 19.054999, Longitude: 72.8692035\n",
      "Location: Knowledge park, Greater Noida, Latitude: 28.4568669, Longitude: 77.50005402757225\n",
      "Location: New Ind Town, Faridabad, Latitude: None, Longitude: None\n",
      "Location: ITO, Delhi, Latitude: 28.6281909, Longitude: 77.2410437\n",
      "Location: Bengaluru, Latitude: 12.98815675, Longitude: 77.62260003796\n",
      "Location: Dimapur, Nagaland, Latitude: 25.904137849999998, Longitude: 93.7177608788519\n"
     ]
    }
   ],
   "source": [
    "from geopy.geocoders import Nominatim\n",
    "\n",
    "# Initialize geolocator\n",
    "geolocator = Nominatim(user_agent=\"geoapi\")\n",
    "\n",
    "# List of locations\n",
    "\n",
    "# Geocode each location\n",
    "coordinates = []\n",
    "for loc in data['Location'].unique():\n",
    "    location = geolocator.geocode(loc)\n",
    "    if location:\n",
    "        coordinates.append((loc, location.latitude, location.longitude))\n",
    "    else:\n",
    "        coordinates.append((loc, None, None))\n",
    "\n",
    "# Print results\n",
    "for loc, lat, lon in coordinates:\n",
    "    print(f\"Location: {loc}, Latitude: {lat}, Longitude: {lon}\")\n"
   ]
  },
  {
   "cell_type": "code",
   "execution_count": null,
   "metadata": {},
   "outputs": [],
   "source": []
  }
 ],
 "metadata": {
  "kernelspec": {
   "display_name": "env",
   "language": "python",
   "name": "python3"
  },
  "language_info": {
   "codemirror_mode": {
    "name": "ipython",
    "version": 3
   },
   "file_extension": ".py",
   "mimetype": "text/x-python",
   "name": "python",
   "nbconvert_exporter": "python",
   "pygments_lexer": "ipython3",
   "version": "3.11.9"
  }
 },
 "nbformat": 4,
 "nbformat_minor": 2
}
